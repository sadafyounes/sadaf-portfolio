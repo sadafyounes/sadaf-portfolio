{
  "nbformat": 4,
  "nbformat_minor": 0,
  "metadata": {
    "colab": {
      "provenance": []
    },
    "kernelspec": {
      "name": "python3",
      "display_name": "Python 3"
    },
    "language_info": {
      "name": "python"
    }
  },
  "cells": [
    {
      "cell_type": "markdown",
      "metadata": {
        "id": "f5BLpBB_cv8y"
      },
      "source": [
        "**Gender Classificaton:**"
      ]
    },
    {
      "cell_type": "markdown",
      "source": [
        "**Name: Sadaf Younes**\n"
      ],
      "metadata": {
        "id": "uNeVZgXpzSee"
      }
    },
    {
      "cell_type": "markdown",
      "metadata": {
        "id": "LnPbntVRnfvV"
      },
      "source": [
        "Importing the Dependencies"
      ]
    },
    {
      "cell_type": "code",
      "metadata": {
        "id": "-71UtHzNVWjB"
      },
      "source": [
        "import pandas as pd\n",
        "from sklearn.preprocessing import StandardScaler\n",
        "from sklearn.model_selection import train_test_split\n",
        "from sklearn.metrics import accuracy_score\n",
        "from sklearn.datasets import make_classification\n",
        "from sklearn.model_selection import cross_val_score\n",
        "from sklearn.model_selection import train_test_split\n",
        "from sklearn.model_selection import RepeatedStratifiedKFold\n",
        "from sklearn.ensemble import RandomForestClassifier"
      ],
      "execution_count": null,
      "outputs": []
    },
    {
      "cell_type": "markdown",
      "metadata": {
        "id": "bmfOfG8joBBy"
      },
      "source": [
        "Data Collection and Analysis\n",
        "Kaggle Gender Classification Dataset"
      ]
    },
    {
      "cell_type": "code",
      "metadata": {
        "id": "Xpw6Mj_pn_TL"
      },
      "source": [
        "# loading the gender classification dataset to a pandas DataFrame\n",
        "gender_dataset = pd.read_csv('/content/gender_classification_Logistic Regression.csv')"
      ],
      "execution_count": null,
      "outputs": []
    },
    {
      "cell_type": "code",
      "metadata": {
        "id": "-tjO09ncovoh",
        "colab": {
          "base_uri": "https://localhost:8080/",
          "height": 250
        },
        "outputId": "092c7db4-e7c9-4385-8034-c34fbbdfdab4"
      },
      "source": [
        "# printing the first 5 rows of the dataset\n",
        "gender_dataset.head()"
      ],
      "execution_count": null,
      "outputs": [
        {
          "output_type": "execute_result",
          "data": {
            "text/plain": [
              "   long_hair  forehead_width_cm  forehead_height_cm  nose_wide  nose_long  \\\n",
              "0          1               11.8                 6.1          1          0   \n",
              "1          0               14.0                 5.4          0          0   \n",
              "2          0               11.8                 6.3          1          1   \n",
              "3          0               14.4                 6.1          0          1   \n",
              "4          1               13.5                 5.9          0          0   \n",
              "\n",
              "   lips_thin  distance_nose_to_lip_long  gender  \n",
              "0          1                          1       1  \n",
              "1          1                          0       1  \n",
              "2          1                          1       0  \n",
              "3          1                          1       0  \n",
              "4          0                          0       1  "
            ],
            "text/html": [
              "\n",
              "  <div id=\"df-d3086204-c71d-439d-b56f-a369bcfff7bf\">\n",
              "    <div class=\"colab-df-container\">\n",
              "      <div>\n",
              "<style scoped>\n",
              "    .dataframe tbody tr th:only-of-type {\n",
              "        vertical-align: middle;\n",
              "    }\n",
              "\n",
              "    .dataframe tbody tr th {\n",
              "        vertical-align: top;\n",
              "    }\n",
              "\n",
              "    .dataframe thead th {\n",
              "        text-align: right;\n",
              "    }\n",
              "</style>\n",
              "<table border=\"1\" class=\"dataframe\">\n",
              "  <thead>\n",
              "    <tr style=\"text-align: right;\">\n",
              "      <th></th>\n",
              "      <th>long_hair</th>\n",
              "      <th>forehead_width_cm</th>\n",
              "      <th>forehead_height_cm</th>\n",
              "      <th>nose_wide</th>\n",
              "      <th>nose_long</th>\n",
              "      <th>lips_thin</th>\n",
              "      <th>distance_nose_to_lip_long</th>\n",
              "      <th>gender</th>\n",
              "    </tr>\n",
              "  </thead>\n",
              "  <tbody>\n",
              "    <tr>\n",
              "      <th>0</th>\n",
              "      <td>1</td>\n",
              "      <td>11.8</td>\n",
              "      <td>6.1</td>\n",
              "      <td>1</td>\n",
              "      <td>0</td>\n",
              "      <td>1</td>\n",
              "      <td>1</td>\n",
              "      <td>1</td>\n",
              "    </tr>\n",
              "    <tr>\n",
              "      <th>1</th>\n",
              "      <td>0</td>\n",
              "      <td>14.0</td>\n",
              "      <td>5.4</td>\n",
              "      <td>0</td>\n",
              "      <td>0</td>\n",
              "      <td>1</td>\n",
              "      <td>0</td>\n",
              "      <td>1</td>\n",
              "    </tr>\n",
              "    <tr>\n",
              "      <th>2</th>\n",
              "      <td>0</td>\n",
              "      <td>11.8</td>\n",
              "      <td>6.3</td>\n",
              "      <td>1</td>\n",
              "      <td>1</td>\n",
              "      <td>1</td>\n",
              "      <td>1</td>\n",
              "      <td>0</td>\n",
              "    </tr>\n",
              "    <tr>\n",
              "      <th>3</th>\n",
              "      <td>0</td>\n",
              "      <td>14.4</td>\n",
              "      <td>6.1</td>\n",
              "      <td>0</td>\n",
              "      <td>1</td>\n",
              "      <td>1</td>\n",
              "      <td>1</td>\n",
              "      <td>0</td>\n",
              "    </tr>\n",
              "    <tr>\n",
              "      <th>4</th>\n",
              "      <td>1</td>\n",
              "      <td>13.5</td>\n",
              "      <td>5.9</td>\n",
              "      <td>0</td>\n",
              "      <td>0</td>\n",
              "      <td>0</td>\n",
              "      <td>0</td>\n",
              "      <td>1</td>\n",
              "    </tr>\n",
              "  </tbody>\n",
              "</table>\n",
              "</div>\n",
              "      <button class=\"colab-df-convert\" onclick=\"convertToInteractive('df-d3086204-c71d-439d-b56f-a369bcfff7bf')\"\n",
              "              title=\"Convert this dataframe to an interactive table.\"\n",
              "              style=\"display:none;\">\n",
              "        \n",
              "  <svg xmlns=\"http://www.w3.org/2000/svg\" height=\"24px\"viewBox=\"0 0 24 24\"\n",
              "       width=\"24px\">\n",
              "    <path d=\"M0 0h24v24H0V0z\" fill=\"none\"/>\n",
              "    <path d=\"M18.56 5.44l.94 2.06.94-2.06 2.06-.94-2.06-.94-.94-2.06-.94 2.06-2.06.94zm-11 1L8.5 8.5l.94-2.06 2.06-.94-2.06-.94L8.5 2.5l-.94 2.06-2.06.94zm10 10l.94 2.06.94-2.06 2.06-.94-2.06-.94-.94-2.06-.94 2.06-2.06.94z\"/><path d=\"M17.41 7.96l-1.37-1.37c-.4-.4-.92-.59-1.43-.59-.52 0-1.04.2-1.43.59L10.3 9.45l-7.72 7.72c-.78.78-.78 2.05 0 2.83L4 21.41c.39.39.9.59 1.41.59.51 0 1.02-.2 1.41-.59l7.78-7.78 2.81-2.81c.8-.78.8-2.07 0-2.86zM5.41 20L4 18.59l7.72-7.72 1.47 1.35L5.41 20z\"/>\n",
              "  </svg>\n",
              "      </button>\n",
              "      \n",
              "  <style>\n",
              "    .colab-df-container {\n",
              "      display:flex;\n",
              "      flex-wrap:wrap;\n",
              "      gap: 12px;\n",
              "    }\n",
              "\n",
              "    .colab-df-convert {\n",
              "      background-color: #E8F0FE;\n",
              "      border: none;\n",
              "      border-radius: 50%;\n",
              "      cursor: pointer;\n",
              "      display: none;\n",
              "      fill: #1967D2;\n",
              "      height: 32px;\n",
              "      padding: 0 0 0 0;\n",
              "      width: 32px;\n",
              "    }\n",
              "\n",
              "    .colab-df-convert:hover {\n",
              "      background-color: #E2EBFA;\n",
              "      box-shadow: 0px 1px 2px rgba(60, 64, 67, 0.3), 0px 1px 3px 1px rgba(60, 64, 67, 0.15);\n",
              "      fill: #174EA6;\n",
              "    }\n",
              "\n",
              "    [theme=dark] .colab-df-convert {\n",
              "      background-color: #3B4455;\n",
              "      fill: #D2E3FC;\n",
              "    }\n",
              "\n",
              "    [theme=dark] .colab-df-convert:hover {\n",
              "      background-color: #434B5C;\n",
              "      box-shadow: 0px 1px 3px 1px rgba(0, 0, 0, 0.15);\n",
              "      filter: drop-shadow(0px 1px 2px rgba(0, 0, 0, 0.3));\n",
              "      fill: #FFFFFF;\n",
              "    }\n",
              "  </style>\n",
              "\n",
              "      <script>\n",
              "        const buttonEl =\n",
              "          document.querySelector('#df-d3086204-c71d-439d-b56f-a369bcfff7bf button.colab-df-convert');\n",
              "        buttonEl.style.display =\n",
              "          google.colab.kernel.accessAllowed ? 'block' : 'none';\n",
              "\n",
              "        async function convertToInteractive(key) {\n",
              "          const element = document.querySelector('#df-d3086204-c71d-439d-b56f-a369bcfff7bf');\n",
              "          const dataTable =\n",
              "            await google.colab.kernel.invokeFunction('convertToInteractive',\n",
              "                                                     [key], {});\n",
              "          if (!dataTable) return;\n",
              "\n",
              "          const docLinkHtml = 'Like what you see? Visit the ' +\n",
              "            '<a target=\"_blank\" href=https://colab.research.google.com/notebooks/data_table.ipynb>data table notebook</a>'\n",
              "            + ' to learn more about interactive tables.';\n",
              "          element.innerHTML = '';\n",
              "          dataTable['output_type'] = 'display_data';\n",
              "          await google.colab.output.renderOutput(dataTable, element);\n",
              "          const docLink = document.createElement('div');\n",
              "          docLink.innerHTML = docLinkHtml;\n",
              "          element.appendChild(docLink);\n",
              "        }\n",
              "      </script>\n",
              "    </div>\n",
              "  </div>\n",
              "  "
            ]
          },
          "metadata": {},
          "execution_count": 39
        }
      ]
    },
    {
      "cell_type": "code",
      "metadata": {
        "id": "lynParo6pEMB",
        "colab": {
          "base_uri": "https://localhost:8080/"
        },
        "outputId": "7e15d9d7-86fd-4eca-e5be-5c8920d13abd"
      },
      "source": [
        "# number of rows and Columns in this dataset\n",
        "gender_dataset.shape"
      ],
      "execution_count": null,
      "outputs": [
        {
          "output_type": "execute_result",
          "data": {
            "text/plain": [
              "(5001, 8)"
            ]
          },
          "metadata": {},
          "execution_count": 40
        }
      ]
    },
    {
      "cell_type": "code",
      "metadata": {
        "id": "3NDJOlrEpmoL",
        "colab": {
          "base_uri": "https://localhost:8080/",
          "height": 364
        },
        "outputId": "5a58fc92-52b7-44ce-d007-12abf9439d99"
      },
      "source": [
        "# getting the statistical measures of the data\n",
        "gender_dataset.describe()"
      ],
      "execution_count": null,
      "outputs": [
        {
          "output_type": "execute_result",
          "data": {
            "text/plain": [
              "         long_hair  forehead_width_cm  forehead_height_cm    nose_wide  \\\n",
              "count  5001.000000        5001.000000         5001.000000  5001.000000   \n",
              "mean      0.869626          13.181484            5.946311     0.493901   \n",
              "std       0.336748           1.107128            0.541268     0.500013   \n",
              "min       0.000000          11.400000            5.100000     0.000000   \n",
              "25%       1.000000          12.200000            5.500000     0.000000   \n",
              "50%       1.000000          13.100000            5.900000     0.000000   \n",
              "75%       1.000000          14.000000            6.400000     1.000000   \n",
              "max       1.000000          15.500000            7.100000     1.000000   \n",
              "\n",
              "         nose_long    lips_thin  distance_nose_to_lip_long      gender  \n",
              "count  5001.000000  5001.000000                5001.000000  5001.00000  \n",
              "mean      0.507898     0.493101                   0.498900     0.50030  \n",
              "std       0.499988     0.500002                   0.500049     0.50005  \n",
              "min       0.000000     0.000000                   0.000000     0.00000  \n",
              "25%       0.000000     0.000000                   0.000000     0.00000  \n",
              "50%       1.000000     0.000000                   0.000000     1.00000  \n",
              "75%       1.000000     1.000000                   1.000000     1.00000  \n",
              "max       1.000000     1.000000                   1.000000     1.00000  "
            ],
            "text/html": [
              "\n",
              "  <div id=\"df-9b1d1466-6be0-4f5c-bb4f-2460b794e418\">\n",
              "    <div class=\"colab-df-container\">\n",
              "      <div>\n",
              "<style scoped>\n",
              "    .dataframe tbody tr th:only-of-type {\n",
              "        vertical-align: middle;\n",
              "    }\n",
              "\n",
              "    .dataframe tbody tr th {\n",
              "        vertical-align: top;\n",
              "    }\n",
              "\n",
              "    .dataframe thead th {\n",
              "        text-align: right;\n",
              "    }\n",
              "</style>\n",
              "<table border=\"1\" class=\"dataframe\">\n",
              "  <thead>\n",
              "    <tr style=\"text-align: right;\">\n",
              "      <th></th>\n",
              "      <th>long_hair</th>\n",
              "      <th>forehead_width_cm</th>\n",
              "      <th>forehead_height_cm</th>\n",
              "      <th>nose_wide</th>\n",
              "      <th>nose_long</th>\n",
              "      <th>lips_thin</th>\n",
              "      <th>distance_nose_to_lip_long</th>\n",
              "      <th>gender</th>\n",
              "    </tr>\n",
              "  </thead>\n",
              "  <tbody>\n",
              "    <tr>\n",
              "      <th>count</th>\n",
              "      <td>5001.000000</td>\n",
              "      <td>5001.000000</td>\n",
              "      <td>5001.000000</td>\n",
              "      <td>5001.000000</td>\n",
              "      <td>5001.000000</td>\n",
              "      <td>5001.000000</td>\n",
              "      <td>5001.000000</td>\n",
              "      <td>5001.00000</td>\n",
              "    </tr>\n",
              "    <tr>\n",
              "      <th>mean</th>\n",
              "      <td>0.869626</td>\n",
              "      <td>13.181484</td>\n",
              "      <td>5.946311</td>\n",
              "      <td>0.493901</td>\n",
              "      <td>0.507898</td>\n",
              "      <td>0.493101</td>\n",
              "      <td>0.498900</td>\n",
              "      <td>0.50030</td>\n",
              "    </tr>\n",
              "    <tr>\n",
              "      <th>std</th>\n",
              "      <td>0.336748</td>\n",
              "      <td>1.107128</td>\n",
              "      <td>0.541268</td>\n",
              "      <td>0.500013</td>\n",
              "      <td>0.499988</td>\n",
              "      <td>0.500002</td>\n",
              "      <td>0.500049</td>\n",
              "      <td>0.50005</td>\n",
              "    </tr>\n",
              "    <tr>\n",
              "      <th>min</th>\n",
              "      <td>0.000000</td>\n",
              "      <td>11.400000</td>\n",
              "      <td>5.100000</td>\n",
              "      <td>0.000000</td>\n",
              "      <td>0.000000</td>\n",
              "      <td>0.000000</td>\n",
              "      <td>0.000000</td>\n",
              "      <td>0.00000</td>\n",
              "    </tr>\n",
              "    <tr>\n",
              "      <th>25%</th>\n",
              "      <td>1.000000</td>\n",
              "      <td>12.200000</td>\n",
              "      <td>5.500000</td>\n",
              "      <td>0.000000</td>\n",
              "      <td>0.000000</td>\n",
              "      <td>0.000000</td>\n",
              "      <td>0.000000</td>\n",
              "      <td>0.00000</td>\n",
              "    </tr>\n",
              "    <tr>\n",
              "      <th>50%</th>\n",
              "      <td>1.000000</td>\n",
              "      <td>13.100000</td>\n",
              "      <td>5.900000</td>\n",
              "      <td>0.000000</td>\n",
              "      <td>1.000000</td>\n",
              "      <td>0.000000</td>\n",
              "      <td>0.000000</td>\n",
              "      <td>1.00000</td>\n",
              "    </tr>\n",
              "    <tr>\n",
              "      <th>75%</th>\n",
              "      <td>1.000000</td>\n",
              "      <td>14.000000</td>\n",
              "      <td>6.400000</td>\n",
              "      <td>1.000000</td>\n",
              "      <td>1.000000</td>\n",
              "      <td>1.000000</td>\n",
              "      <td>1.000000</td>\n",
              "      <td>1.00000</td>\n",
              "    </tr>\n",
              "    <tr>\n",
              "      <th>max</th>\n",
              "      <td>1.000000</td>\n",
              "      <td>15.500000</td>\n",
              "      <td>7.100000</td>\n",
              "      <td>1.000000</td>\n",
              "      <td>1.000000</td>\n",
              "      <td>1.000000</td>\n",
              "      <td>1.000000</td>\n",
              "      <td>1.00000</td>\n",
              "    </tr>\n",
              "  </tbody>\n",
              "</table>\n",
              "</div>\n",
              "      <button class=\"colab-df-convert\" onclick=\"convertToInteractive('df-9b1d1466-6be0-4f5c-bb4f-2460b794e418')\"\n",
              "              title=\"Convert this dataframe to an interactive table.\"\n",
              "              style=\"display:none;\">\n",
              "        \n",
              "  <svg xmlns=\"http://www.w3.org/2000/svg\" height=\"24px\"viewBox=\"0 0 24 24\"\n",
              "       width=\"24px\">\n",
              "    <path d=\"M0 0h24v24H0V0z\" fill=\"none\"/>\n",
              "    <path d=\"M18.56 5.44l.94 2.06.94-2.06 2.06-.94-2.06-.94-.94-2.06-.94 2.06-2.06.94zm-11 1L8.5 8.5l.94-2.06 2.06-.94-2.06-.94L8.5 2.5l-.94 2.06-2.06.94zm10 10l.94 2.06.94-2.06 2.06-.94-2.06-.94-.94-2.06-.94 2.06-2.06.94z\"/><path d=\"M17.41 7.96l-1.37-1.37c-.4-.4-.92-.59-1.43-.59-.52 0-1.04.2-1.43.59L10.3 9.45l-7.72 7.72c-.78.78-.78 2.05 0 2.83L4 21.41c.39.39.9.59 1.41.59.51 0 1.02-.2 1.41-.59l7.78-7.78 2.81-2.81c.8-.78.8-2.07 0-2.86zM5.41 20L4 18.59l7.72-7.72 1.47 1.35L5.41 20z\"/>\n",
              "  </svg>\n",
              "      </button>\n",
              "      \n",
              "  <style>\n",
              "    .colab-df-container {\n",
              "      display:flex;\n",
              "      flex-wrap:wrap;\n",
              "      gap: 12px;\n",
              "    }\n",
              "\n",
              "    .colab-df-convert {\n",
              "      background-color: #E8F0FE;\n",
              "      border: none;\n",
              "      border-radius: 50%;\n",
              "      cursor: pointer;\n",
              "      display: none;\n",
              "      fill: #1967D2;\n",
              "      height: 32px;\n",
              "      padding: 0 0 0 0;\n",
              "      width: 32px;\n",
              "    }\n",
              "\n",
              "    .colab-df-convert:hover {\n",
              "      background-color: #E2EBFA;\n",
              "      box-shadow: 0px 1px 2px rgba(60, 64, 67, 0.3), 0px 1px 3px 1px rgba(60, 64, 67, 0.15);\n",
              "      fill: #174EA6;\n",
              "    }\n",
              "\n",
              "    [theme=dark] .colab-df-convert {\n",
              "      background-color: #3B4455;\n",
              "      fill: #D2E3FC;\n",
              "    }\n",
              "\n",
              "    [theme=dark] .colab-df-convert:hover {\n",
              "      background-color: #434B5C;\n",
              "      box-shadow: 0px 1px 3px 1px rgba(0, 0, 0, 0.15);\n",
              "      filter: drop-shadow(0px 1px 2px rgba(0, 0, 0, 0.3));\n",
              "      fill: #FFFFFF;\n",
              "    }\n",
              "  </style>\n",
              "\n",
              "      <script>\n",
              "        const buttonEl =\n",
              "          document.querySelector('#df-9b1d1466-6be0-4f5c-bb4f-2460b794e418 button.colab-df-convert');\n",
              "        buttonEl.style.display =\n",
              "          google.colab.kernel.accessAllowed ? 'block' : 'none';\n",
              "\n",
              "        async function convertToInteractive(key) {\n",
              "          const element = document.querySelector('#df-9b1d1466-6be0-4f5c-bb4f-2460b794e418');\n",
              "          const dataTable =\n",
              "            await google.colab.kernel.invokeFunction('convertToInteractive',\n",
              "                                                     [key], {});\n",
              "          if (!dataTable) return;\n",
              "\n",
              "          const docLinkHtml = 'Like what you see? Visit the ' +\n",
              "            '<a target=\"_blank\" href=https://colab.research.google.com/notebooks/data_table.ipynb>data table notebook</a>'\n",
              "            + ' to learn more about interactive tables.';\n",
              "          element.innerHTML = '';\n",
              "          dataTable['output_type'] = 'display_data';\n",
              "          await google.colab.output.renderOutput(dataTable, element);\n",
              "          const docLink = document.createElement('div');\n",
              "          docLink.innerHTML = docLinkHtml;\n",
              "          element.appendChild(docLink);\n",
              "        }\n",
              "      </script>\n",
              "    </div>\n",
              "  </div>\n",
              "  "
            ]
          },
          "metadata": {},
          "execution_count": 41
        }
      ]
    },
    {
      "cell_type": "code",
      "metadata": {
        "id": "LrpHzaGpp5dQ",
        "colab": {
          "base_uri": "https://localhost:8080/"
        },
        "outputId": "b8e57b73-d03a-4634-dca3-f0e318213b79"
      },
      "source": [
        "gender_dataset['gender'].value_counts()"
      ],
      "execution_count": null,
      "outputs": [
        {
          "output_type": "execute_result",
          "data": {
            "text/plain": [
              "1    2502\n",
              "0    2499\n",
              "Name: gender, dtype: int64"
            ]
          },
          "metadata": {},
          "execution_count": 42
        }
      ]
    },
    {
      "cell_type": "markdown",
      "metadata": {
        "id": "cB1qRaNcqeh5"
      },
      "source": [
        "0 --> Male\n",
        "\n",
        "1 --> Female"
      ]
    },
    {
      "cell_type": "code",
      "metadata": {
        "id": "I6MWR0k_qSCK",
        "colab": {
          "base_uri": "https://localhost:8080/",
          "height": 143
        },
        "outputId": "3431d29a-c3a5-4f98-9218-ff34562db63a"
      },
      "source": [
        "gender_dataset.groupby('gender').mean()"
      ],
      "execution_count": null,
      "outputs": [
        {
          "output_type": "execute_result",
          "data": {
            "text/plain": [
              "        long_hair  forehead_width_cm  forehead_height_cm  nose_wide  \\\n",
              "gender                                                                \n",
              "0        0.865946          13.552141            6.096359   0.873149   \n",
              "1        0.873301          12.811271            5.796443   0.115108   \n",
              "\n",
              "        nose_long  lips_thin  distance_nose_to_lip_long  \n",
              "gender                                                   \n",
              "0        0.880352   0.864746                   0.876351  \n",
              "1        0.135891   0.121902                   0.121902  "
            ],
            "text/html": [
              "\n",
              "  <div id=\"df-d7bb0e67-c6de-4ff4-82f5-8d9c31c02401\">\n",
              "    <div class=\"colab-df-container\">\n",
              "      <div>\n",
              "<style scoped>\n",
              "    .dataframe tbody tr th:only-of-type {\n",
              "        vertical-align: middle;\n",
              "    }\n",
              "\n",
              "    .dataframe tbody tr th {\n",
              "        vertical-align: top;\n",
              "    }\n",
              "\n",
              "    .dataframe thead th {\n",
              "        text-align: right;\n",
              "    }\n",
              "</style>\n",
              "<table border=\"1\" class=\"dataframe\">\n",
              "  <thead>\n",
              "    <tr style=\"text-align: right;\">\n",
              "      <th></th>\n",
              "      <th>long_hair</th>\n",
              "      <th>forehead_width_cm</th>\n",
              "      <th>forehead_height_cm</th>\n",
              "      <th>nose_wide</th>\n",
              "      <th>nose_long</th>\n",
              "      <th>lips_thin</th>\n",
              "      <th>distance_nose_to_lip_long</th>\n",
              "    </tr>\n",
              "    <tr>\n",
              "      <th>gender</th>\n",
              "      <th></th>\n",
              "      <th></th>\n",
              "      <th></th>\n",
              "      <th></th>\n",
              "      <th></th>\n",
              "      <th></th>\n",
              "      <th></th>\n",
              "    </tr>\n",
              "  </thead>\n",
              "  <tbody>\n",
              "    <tr>\n",
              "      <th>0</th>\n",
              "      <td>0.865946</td>\n",
              "      <td>13.552141</td>\n",
              "      <td>6.096359</td>\n",
              "      <td>0.873149</td>\n",
              "      <td>0.880352</td>\n",
              "      <td>0.864746</td>\n",
              "      <td>0.876351</td>\n",
              "    </tr>\n",
              "    <tr>\n",
              "      <th>1</th>\n",
              "      <td>0.873301</td>\n",
              "      <td>12.811271</td>\n",
              "      <td>5.796443</td>\n",
              "      <td>0.115108</td>\n",
              "      <td>0.135891</td>\n",
              "      <td>0.121902</td>\n",
              "      <td>0.121902</td>\n",
              "    </tr>\n",
              "  </tbody>\n",
              "</table>\n",
              "</div>\n",
              "      <button class=\"colab-df-convert\" onclick=\"convertToInteractive('df-d7bb0e67-c6de-4ff4-82f5-8d9c31c02401')\"\n",
              "              title=\"Convert this dataframe to an interactive table.\"\n",
              "              style=\"display:none;\">\n",
              "        \n",
              "  <svg xmlns=\"http://www.w3.org/2000/svg\" height=\"24px\"viewBox=\"0 0 24 24\"\n",
              "       width=\"24px\">\n",
              "    <path d=\"M0 0h24v24H0V0z\" fill=\"none\"/>\n",
              "    <path d=\"M18.56 5.44l.94 2.06.94-2.06 2.06-.94-2.06-.94-.94-2.06-.94 2.06-2.06.94zm-11 1L8.5 8.5l.94-2.06 2.06-.94-2.06-.94L8.5 2.5l-.94 2.06-2.06.94zm10 10l.94 2.06.94-2.06 2.06-.94-2.06-.94-.94-2.06-.94 2.06-2.06.94z\"/><path d=\"M17.41 7.96l-1.37-1.37c-.4-.4-.92-.59-1.43-.59-.52 0-1.04.2-1.43.59L10.3 9.45l-7.72 7.72c-.78.78-.78 2.05 0 2.83L4 21.41c.39.39.9.59 1.41.59.51 0 1.02-.2 1.41-.59l7.78-7.78 2.81-2.81c.8-.78.8-2.07 0-2.86zM5.41 20L4 18.59l7.72-7.72 1.47 1.35L5.41 20z\"/>\n",
              "  </svg>\n",
              "      </button>\n",
              "      \n",
              "  <style>\n",
              "    .colab-df-container {\n",
              "      display:flex;\n",
              "      flex-wrap:wrap;\n",
              "      gap: 12px;\n",
              "    }\n",
              "\n",
              "    .colab-df-convert {\n",
              "      background-color: #E8F0FE;\n",
              "      border: none;\n",
              "      border-radius: 50%;\n",
              "      cursor: pointer;\n",
              "      display: none;\n",
              "      fill: #1967D2;\n",
              "      height: 32px;\n",
              "      padding: 0 0 0 0;\n",
              "      width: 32px;\n",
              "    }\n",
              "\n",
              "    .colab-df-convert:hover {\n",
              "      background-color: #E2EBFA;\n",
              "      box-shadow: 0px 1px 2px rgba(60, 64, 67, 0.3), 0px 1px 3px 1px rgba(60, 64, 67, 0.15);\n",
              "      fill: #174EA6;\n",
              "    }\n",
              "\n",
              "    [theme=dark] .colab-df-convert {\n",
              "      background-color: #3B4455;\n",
              "      fill: #D2E3FC;\n",
              "    }\n",
              "\n",
              "    [theme=dark] .colab-df-convert:hover {\n",
              "      background-color: #434B5C;\n",
              "      box-shadow: 0px 1px 3px 1px rgba(0, 0, 0, 0.15);\n",
              "      filter: drop-shadow(0px 1px 2px rgba(0, 0, 0, 0.3));\n",
              "      fill: #FFFFFF;\n",
              "    }\n",
              "  </style>\n",
              "\n",
              "      <script>\n",
              "        const buttonEl =\n",
              "          document.querySelector('#df-d7bb0e67-c6de-4ff4-82f5-8d9c31c02401 button.colab-df-convert');\n",
              "        buttonEl.style.display =\n",
              "          google.colab.kernel.accessAllowed ? 'block' : 'none';\n",
              "\n",
              "        async function convertToInteractive(key) {\n",
              "          const element = document.querySelector('#df-d7bb0e67-c6de-4ff4-82f5-8d9c31c02401');\n",
              "          const dataTable =\n",
              "            await google.colab.kernel.invokeFunction('convertToInteractive',\n",
              "                                                     [key], {});\n",
              "          if (!dataTable) return;\n",
              "\n",
              "          const docLinkHtml = 'Like what you see? Visit the ' +\n",
              "            '<a target=\"_blank\" href=https://colab.research.google.com/notebooks/data_table.ipynb>data table notebook</a>'\n",
              "            + ' to learn more about interactive tables.';\n",
              "          element.innerHTML = '';\n",
              "          dataTable['output_type'] = 'display_data';\n",
              "          await google.colab.output.renderOutput(dataTable, element);\n",
              "          const docLink = document.createElement('div');\n",
              "          docLink.innerHTML = docLinkHtml;\n",
              "          element.appendChild(docLink);\n",
              "        }\n",
              "      </script>\n",
              "    </div>\n",
              "  </div>\n",
              "  "
            ]
          },
          "metadata": {},
          "execution_count": 43
        }
      ]
    },
    {
      "cell_type": "code",
      "metadata": {
        "id": "RoDW7l9mqqHZ"
      },
      "source": [
        "# separating the data and labels\n",
        "features = gender_dataset.drop(columns = 'gender', axis=1)\n",
        "target = gender_dataset['gender']"
      ],
      "execution_count": null,
      "outputs": []
    },
    {
      "cell_type": "code",
      "metadata": {
        "id": "3eiRW9M9raMm",
        "colab": {
          "base_uri": "https://localhost:8080/"
        },
        "outputId": "2331a64e-8622-4cfb-f27f-454f53d45440"
      },
      "source": [
        "print(features)"
      ],
      "execution_count": null,
      "outputs": [
        {
          "output_type": "stream",
          "name": "stdout",
          "text": [
            "      long_hair  forehead_width_cm  forehead_height_cm  nose_wide  nose_long  \\\n",
            "0             1               11.8                 6.1          1          0   \n",
            "1             0               14.0                 5.4          0          0   \n",
            "2             0               11.8                 6.3          1          1   \n",
            "3             0               14.4                 6.1          0          1   \n",
            "4             1               13.5                 5.9          0          0   \n",
            "...         ...                ...                 ...        ...        ...   \n",
            "4996          1               13.6                 5.1          0          0   \n",
            "4997          1               11.9                 5.4          0          0   \n",
            "4998          1               12.9                 5.7          0          0   \n",
            "4999          1               13.2                 6.2          0          0   \n",
            "5000          1               15.4                 5.4          1          1   \n",
            "\n",
            "      lips_thin  distance_nose_to_lip_long  \n",
            "0             1                          1  \n",
            "1             1                          0  \n",
            "2             1                          1  \n",
            "3             1                          1  \n",
            "4             0                          0  \n",
            "...         ...                        ...  \n",
            "4996          0                          0  \n",
            "4997          0                          0  \n",
            "4998          0                          0  \n",
            "4999          0                          0  \n",
            "5000          1                          1  \n",
            "\n",
            "[5001 rows x 7 columns]\n"
          ]
        }
      ]
    },
    {
      "cell_type": "code",
      "metadata": {
        "id": "AoxgTJAMrcCl",
        "colab": {
          "base_uri": "https://localhost:8080/"
        },
        "outputId": "fb392a56-fc1e-49a2-cc00-0b42555eed01"
      },
      "source": [
        "print(target)"
      ],
      "execution_count": null,
      "outputs": [
        {
          "output_type": "stream",
          "name": "stdout",
          "text": [
            "0       1\n",
            "1       1\n",
            "2       0\n",
            "3       0\n",
            "4       1\n",
            "       ..\n",
            "4996    1\n",
            "4997    1\n",
            "4998    1\n",
            "4999    1\n",
            "5000    0\n",
            "Name: gender, Length: 5001, dtype: int64\n"
          ]
        }
      ]
    },
    {
      "cell_type": "markdown",
      "metadata": {
        "id": "umAbo_kqrlzI"
      },
      "source": [
        "Data Standardization"
      ]
    },
    {
      "cell_type": "code",
      "metadata": {
        "id": "njfM5X60rgnc"
      },
      "source": [
        "scaler = StandardScaler()"
      ],
      "execution_count": null,
      "outputs": []
    },
    {
      "cell_type": "code",
      "metadata": {
        "id": "g0ai5ARbr53p",
        "colab": {
          "base_uri": "https://localhost:8080/"
        },
        "outputId": "f0865dfa-2746-4a82-ec92-2e94c0597f50"
      },
      "source": [
        "scaler.fit(features)"
      ],
      "execution_count": null,
      "outputs": [
        {
          "output_type": "execute_result",
          "data": {
            "text/plain": [
              "StandardScaler()"
            ]
          },
          "metadata": {},
          "execution_count": 48
        }
      ]
    },
    {
      "cell_type": "code",
      "metadata": {
        "id": "FHxNwPuZr-kD"
      },
      "source": [
        "standardized_data = scaler.transform(features)"
      ],
      "execution_count": null,
      "outputs": []
    },
    {
      "cell_type": "code",
      "metadata": {
        "id": "fjMwZ5x6sPUJ",
        "colab": {
          "base_uri": "https://localhost:8080/"
        },
        "outputId": "4ebe5824-1842-43a8-d59a-ce67dd8c6375"
      },
      "source": [
        "print(standardized_data)"
      ],
      "execution_count": null,
      "outputs": [
        {
          "output_type": "stream",
          "name": "stdout",
          "text": [
            "[[ 0.38719442 -1.24793291  0.28397148 ... -1.01592361  1.01389375\n",
            "   1.00220198]\n",
            " [-2.58268182  0.73938869 -1.00941773 ... -1.01592361  1.01389375\n",
            "  -0.99780285]\n",
            " [-2.58268182 -1.24793291  0.65351125 ...  0.98432598  1.01389375\n",
            "   1.00220198]\n",
            " ...\n",
            " [ 0.38719442 -0.25427211 -0.45510807 ... -1.01592361 -0.98629664\n",
            "  -0.99780285]\n",
            " [ 0.38719442  0.01672629  0.46874136 ... -1.01592361 -0.98629664\n",
            "  -0.99780285]\n",
            " [ 0.38719442  2.00404789 -1.00941773 ...  0.98432598  1.01389375\n",
            "   1.00220198]]\n"
          ]
        }
      ]
    },
    {
      "cell_type": "code",
      "metadata": {
        "id": "ZxWSl4SGsRjE"
      },
      "source": [
        "features = standardized_data\n",
        "target = gender_dataset['gender']"
      ],
      "execution_count": null,
      "outputs": []
    },
    {
      "cell_type": "code",
      "metadata": {
        "id": "lhJF_7QjsjmP",
        "colab": {
          "base_uri": "https://localhost:8080/"
        },
        "outputId": "133471da-d1b7-4244-97cf-2f8d6f15750f"
      },
      "source": [
        "print(features)\n",
        "print(target)"
      ],
      "execution_count": null,
      "outputs": [
        {
          "output_type": "stream",
          "name": "stdout",
          "text": [
            "[[ 0.38719442 -1.24793291  0.28397148 ... -1.01592361  1.01389375\n",
            "   1.00220198]\n",
            " [-2.58268182  0.73938869 -1.00941773 ... -1.01592361  1.01389375\n",
            "  -0.99780285]\n",
            " [-2.58268182 -1.24793291  0.65351125 ...  0.98432598  1.01389375\n",
            "   1.00220198]\n",
            " ...\n",
            " [ 0.38719442 -0.25427211 -0.45510807 ... -1.01592361 -0.98629664\n",
            "  -0.99780285]\n",
            " [ 0.38719442  0.01672629  0.46874136 ... -1.01592361 -0.98629664\n",
            "  -0.99780285]\n",
            " [ 0.38719442  2.00404789 -1.00941773 ...  0.98432598  1.01389375\n",
            "   1.00220198]]\n",
            "0       1\n",
            "1       1\n",
            "2       0\n",
            "3       0\n",
            "4       1\n",
            "       ..\n",
            "4996    1\n",
            "4997    1\n",
            "4998    1\n",
            "4999    1\n",
            "5000    0\n",
            "Name: gender, Length: 5001, dtype: int64\n"
          ]
        }
      ]
    },
    {
      "cell_type": "markdown",
      "metadata": {
        "id": "gHciEFkxsoQP"
      },
      "source": [
        "Train Test Split"
      ]
    },
    {
      "cell_type": "code",
      "metadata": {
        "id": "AEfKGj_yslvD"
      },
      "source": [
        "X_train, X_test, Y_train, Y_test = train_test_split(features,target, test_size = 0.2, random_state=2)"
      ],
      "execution_count": null,
      "outputs": []
    },
    {
      "cell_type": "code",
      "metadata": {
        "id": "DR05T-o0t3FQ",
        "colab": {
          "base_uri": "https://localhost:8080/"
        },
        "outputId": "47b40447-5951-4f24-9038-fe915e9d465f"
      },
      "source": [
        "print(features.shape, X_train.shape, X_test.shape)"
      ],
      "execution_count": null,
      "outputs": [
        {
          "output_type": "stream",
          "name": "stdout",
          "text": [
            "(5001, 7) (4000, 7) (1001, 7)\n"
          ]
        }
      ]
    },
    {
      "cell_type": "markdown",
      "metadata": {
        "id": "ElJ3tkOtuC_n"
      },
      "source": [
        "Training the Model"
      ]
    },
    {
      "cell_type": "code",
      "source": [
        "#Applying the Random Forest Classifier\n",
        "model = RandomForestClassifier(n_estimators=100, criterion='gini', max_depth=None, min_samples_split=2, min_samples_leaf=1, min_weight_fraction_leaf=0.0, max_features='sqrt', max_leaf_nodes=None, min_impurity_decrease=0.0, bootstrap=True, oob_score=False, n_jobs=None, random_state=None, verbose=0, warm_start=False, class_weight=None, ccp_alpha=0.0, max_samples=None)\n"
      ],
      "metadata": {
        "id": "2z8obWQg8ps5"
      },
      "execution_count": null,
      "outputs": []
    },
    {
      "cell_type": "code",
      "metadata": {
        "id": "ncJWY_7suPAb",
        "colab": {
          "base_uri": "https://localhost:8080/"
        },
        "outputId": "38d76988-1722-4e0b-c904-66385765ce00"
      },
      "source": [
        "#training the support vector Machine Classifier\n",
        "model.fit(X_train, Y_train)\n",
        "\n"
      ],
      "execution_count": null,
      "outputs": [
        {
          "output_type": "execute_result",
          "data": {
            "text/plain": [
              "RandomForestClassifier(max_features='sqrt')"
            ]
          },
          "metadata": {},
          "execution_count": 56
        }
      ]
    },
    {
      "cell_type": "markdown",
      "metadata": {
        "id": "yhAjGPJWunXa"
      },
      "source": [
        "5-fold Cross Validation"
      ]
    },
    {
      "cell_type": "code",
      "source": [
        "#Using 5fold cross validation method on training data\n",
        "train_score = cross_val_score(model, X_train, Y_train, scoring=\"accuracy\", cv= 5 )\n",
        "train_score"
      ],
      "metadata": {
        "colab": {
          "base_uri": "https://localhost:8080/"
        },
        "id": "RD2-9z4H973Z",
        "outputId": "d31ca38d-4985-45b0-d0f7-2e022a574a20"
      },
      "execution_count": null,
      "outputs": [
        {
          "output_type": "execute_result",
          "data": {
            "text/plain": [
              "array([0.97   , 0.96625, 0.975  , 0.96875, 0.96   ])"
            ]
          },
          "metadata": {},
          "execution_count": 70
        }
      ]
    },
    {
      "cell_type": "code",
      "source": [
        "#Using 5fold cross validation method on testing data\n",
        "test_score = cross_val_score(model, X_test, Y_test, scoring=\"accuracy\", cv= 5 )\n",
        "test_score"
      ],
      "metadata": {
        "colab": {
          "base_uri": "https://localhost:8080/"
        },
        "id": "rwgVPHY1-tZJ",
        "outputId": "245105ac-d7a0-4ccc-a2de-375a8016e54e"
      },
      "execution_count": null,
      "outputs": [
        {
          "output_type": "execute_result",
          "data": {
            "text/plain": [
              "array([0.97014925, 0.98      , 0.98      , 0.955     , 0.98      ])"
            ]
          },
          "metadata": {},
          "execution_count": 71
        }
      ]
    },
    {
      "cell_type": "markdown",
      "source": [
        "Making a Predictive System\n"
      ],
      "metadata": {
        "id": "3lhMbXme_FW-"
      }
    },
    {
      "cell_type": "code",
      "source": [
        "input_data = (0,11.4,6.7,1,0,1,1)\n",
        "\n",
        "# changing the input_data to numpy array\n",
        "input_data_as_numpy_array = np.asarray(input_data)\n",
        "\n",
        "# reshape the array as we are predicting for one instance\n",
        "input_data_reshaped = input_data_as_numpy_array.reshape(1,-1)\n",
        "\n",
        "# standardize the input data\n",
        "std_data = scaler.transform(input_data_reshaped)\n",
        "print(std_data)\n",
        "\n",
        "prediction = model.predict(std_data)\n",
        "print(prediction)\n",
        "\n",
        "if (prediction[0] == 0):\n",
        "  print('The person is a male')\n",
        "else:\n",
        "  print('The person is female')"
      ],
      "metadata": {
        "colab": {
          "base_uri": "https://localhost:8080/"
        },
        "id": "LWUaE5dz-zwo",
        "outputId": "2accca60-9c02-4292-ef76-f18579522427"
      },
      "execution_count": null,
      "outputs": [
        {
          "output_type": "stream",
          "name": "stdout",
          "text": [
            "[[-2.58268182 -1.60926411  1.3925908   1.01227287 -1.01592361  1.01389375\n",
            "   1.00220198]]\n",
            "[0]\n",
            "The person is a male\n"
          ]
        },
        {
          "output_type": "stream",
          "name": "stderr",
          "text": [
            "/usr/local/lib/python3.8/dist-packages/sklearn/base.py:450: UserWarning: X does not have valid feature names, but StandardScaler was fitted with feature names\n",
            "  warnings.warn(\n"
          ]
        }
      ]
    },
    {
      "cell_type": "markdown",
      "source": [
        "Visualization\n"
      ],
      "metadata": {
        "id": "5Fv8HD9KvRQa"
      }
    },
    {
      "cell_type": "code",
      "source": [
        "#Visualizing the Random Forest according to tree graphs\n",
        "fn=['long_hair',\t'forehead_width_cm',\t'forehead_height_cm',\t'nose_wide',\t'nose_long'\t,'lips_thin',\t'distance_nose_to_lip_long']\n",
        "cn=['male', 'female']\n",
        "import matplotlib.pyplot as plt\n",
        "from sklearn.tree import plot_tree\n",
        "\n",
        "fig = plt.figure(figsize=(15, 10))\n",
        "plot_tree(model.estimators_[0],\n",
        "          feature_names=fn,\n",
        "          class_names=cn,\n",
        "          filled=True, impurity=True,\n",
        "          rounded=True)\n"
      ],
      "metadata": {
        "colab": {
          "base_uri": "https://localhost:8080/",
          "height": 1000
        },
        "id": "qGYLJEivAFHy",
        "outputId": "d4ba808c-002e-4b13-b99f-e10aef74c901"
      },
      "execution_count": null,
      "outputs": [
        {
          "output_type": "execute_result",
          "data": {
            "text/plain": [
              "[Text(0.4543918918918919, 0.9705882352941176, 'nose_long <= -0.016\\ngini = 0.5\\nsamples = 2542\\nvalue = [2008, 1992]\\nclass = male'),\n",
              " Text(0.16103603603603603, 0.9117647058823529, 'distance_nose_to_lip_long <= 0.002\\ngini = 0.203\\nsamples = 1231\\nvalue = [224, 1728]\\nclass = female'),\n",
              " Text(0.04617117117117117, 0.8529411764705882, 'nose_wide <= 0.012\\ngini = 0.034\\nsamples = 975\\nvalue = [27, 1521]\\nclass = female'),\n",
              " Text(0.018018018018018018, 0.7941176470588235, 'forehead_width_cm <= 1.236\\ngini = 0.005\\nsamples = 841\\nvalue = [3, 1327]\\nclass = female'),\n",
              " Text(0.009009009009009009, 0.7352941176470589, 'gini = 0.0\\nsamples = 839\\nvalue = [0, 1327]\\nclass = female'),\n",
              " Text(0.02702702702702703, 0.7352941176470589, 'gini = 0.0\\nsamples = 2\\nvalue = [3, 0]\\nclass = male'),\n",
              " Text(0.07432432432432433, 0.7941176470588235, 'lips_thin <= 0.014\\ngini = 0.196\\nsamples = 134\\nvalue = [24, 194]\\nclass = female'),\n",
              " Text(0.04504504504504504, 0.7352941176470589, 'forehead_width_cm <= 1.327\\ngini = 0.064\\nsamples = 111\\nvalue = [6, 174]\\nclass = female'),\n",
              " Text(0.036036036036036036, 0.6764705882352942, 'forehead_height_cm <= 1.208\\ngini = 0.044\\nsamples = 110\\nvalue = [4, 174]\\nclass = female'),\n",
              " Text(0.02702702702702703, 0.6176470588235294, 'long_hair <= -1.098\\ngini = 0.011\\nsamples = 108\\nvalue = [1, 174]\\nclass = female'),\n",
              " Text(0.018018018018018018, 0.5588235294117647, 'gini = 0.0\\nsamples = 10\\nvalue = [0, 17]\\nclass = female'),\n",
              " Text(0.036036036036036036, 0.5588235294117647, 'forehead_width_cm <= -1.293\\ngini = 0.013\\nsamples = 98\\nvalue = [1, 157]\\nclass = female'),\n",
              " Text(0.02702702702702703, 0.5, 'forehead_height_cm <= 0.561\\ngini = 0.1\\nsamples = 11\\nvalue = [1, 18]\\nclass = female'),\n",
              " Text(0.018018018018018018, 0.4411764705882353, 'gini = 0.0\\nsamples = 9\\nvalue = [0, 17]\\nclass = female'),\n",
              " Text(0.036036036036036036, 0.4411764705882353, 'forehead_height_cm <= 0.746\\ngini = 0.5\\nsamples = 2\\nvalue = [1, 1]\\nclass = male'),\n",
              " Text(0.02702702702702703, 0.38235294117647056, 'gini = 0.0\\nsamples = 1\\nvalue = [1, 0]\\nclass = male'),\n",
              " Text(0.04504504504504504, 0.38235294117647056, 'gini = 0.0\\nsamples = 1\\nvalue = [0, 1]\\nclass = female'),\n",
              " Text(0.04504504504504504, 0.5, 'gini = 0.0\\nsamples = 87\\nvalue = [0, 139]\\nclass = female'),\n",
              " Text(0.04504504504504504, 0.6176470588235294, 'gini = 0.0\\nsamples = 2\\nvalue = [3, 0]\\nclass = male'),\n",
              " Text(0.05405405405405406, 0.6764705882352942, 'gini = 0.0\\nsamples = 1\\nvalue = [2, 0]\\nclass = male'),\n",
              " Text(0.1036036036036036, 0.7352941176470589, 'forehead_width_cm <= -0.48\\ngini = 0.499\\nsamples = 23\\nvalue = [18, 20]\\nclass = female'),\n",
              " Text(0.07207207207207207, 0.6764705882352942, 'long_hair <= -1.098\\ngini = 0.305\\nsamples = 9\\nvalue = [3, 13]\\nclass = female'),\n",
              " Text(0.06306306306306306, 0.6176470588235294, 'gini = 0.0\\nsamples = 1\\nvalue = [0, 4]\\nclass = female'),\n",
              " Text(0.08108108108108109, 0.6176470588235294, 'forehead_height_cm <= 1.208\\ngini = 0.375\\nsamples = 8\\nvalue = [3, 9]\\nclass = female'),\n",
              " Text(0.07207207207207207, 0.5588235294117647, 'forehead_height_cm <= -0.27\\ngini = 0.18\\nsamples = 6\\nvalue = [1, 9]\\nclass = female'),\n",
              " Text(0.06306306306306306, 0.5, 'forehead_height_cm <= -0.732\\ngini = 0.32\\nsamples = 3\\nvalue = [1, 4]\\nclass = female'),\n",
              " Text(0.05405405405405406, 0.4411764705882353, 'gini = 0.0\\nsamples = 2\\nvalue = [0, 4]\\nclass = female'),\n",
              " Text(0.07207207207207207, 0.4411764705882353, 'gini = 0.0\\nsamples = 1\\nvalue = [1, 0]\\nclass = male'),\n",
              " Text(0.08108108108108109, 0.5, 'gini = 0.0\\nsamples = 3\\nvalue = [0, 5]\\nclass = female'),\n",
              " Text(0.09009009009009009, 0.5588235294117647, 'gini = 0.0\\nsamples = 2\\nvalue = [2, 0]\\nclass = male'),\n",
              " Text(0.13513513513513514, 0.6764705882352942, 'forehead_width_cm <= 0.694\\ngini = 0.434\\nsamples = 14\\nvalue = [15, 7]\\nclass = male'),\n",
              " Text(0.12612612612612611, 0.6176470588235294, 'forehead_width_cm <= 0.152\\ngini = 0.484\\nsamples = 10\\nvalue = [10, 7]\\nclass = male'),\n",
              " Text(0.10810810810810811, 0.5588235294117647, 'long_hair <= -1.098\\ngini = 0.375\\nsamples = 6\\nvalue = [9, 3]\\nclass = male'),\n",
              " Text(0.0990990990990991, 0.5, 'gini = 0.0\\nsamples = 1\\nvalue = [1, 0]\\nclass = male'),\n",
              " Text(0.11711711711711711, 0.5, 'forehead_width_cm <= -0.074\\ngini = 0.397\\nsamples = 5\\nvalue = [8, 3]\\nclass = male'),\n",
              " Text(0.10810810810810811, 0.4411764705882353, 'forehead_width_cm <= -0.299\\ngini = 0.5\\nsamples = 2\\nvalue = [3, 3]\\nclass = male'),\n",
              " Text(0.0990990990990991, 0.38235294117647056, 'gini = 0.0\\nsamples = 1\\nvalue = [3, 0]\\nclass = male'),\n",
              " Text(0.11711711711711711, 0.38235294117647056, 'gini = 0.0\\nsamples = 1\\nvalue = [0, 3]\\nclass = female'),\n",
              " Text(0.12612612612612611, 0.4411764705882353, 'gini = 0.0\\nsamples = 3\\nvalue = [5, 0]\\nclass = male'),\n",
              " Text(0.14414414414414414, 0.5588235294117647, 'forehead_width_cm <= 0.333\\ngini = 0.32\\nsamples = 4\\nvalue = [1, 4]\\nclass = female'),\n",
              " Text(0.13513513513513514, 0.5, 'gini = 0.0\\nsamples = 2\\nvalue = [0, 3]\\nclass = female'),\n",
              " Text(0.15315315315315314, 0.5, 'forehead_width_cm <= 0.468\\ngini = 0.5\\nsamples = 2\\nvalue = [1, 1]\\nclass = male'),\n",
              " Text(0.14414414414414414, 0.4411764705882353, 'gini = 0.0\\nsamples = 1\\nvalue = [1, 0]\\nclass = male'),\n",
              " Text(0.16216216216216217, 0.4411764705882353, 'gini = 0.0\\nsamples = 1\\nvalue = [0, 1]\\nclass = female'),\n",
              " Text(0.14414414414414414, 0.6176470588235294, 'gini = 0.0\\nsamples = 4\\nvalue = [5, 0]\\nclass = male'),\n",
              " Text(0.2759009009009009, 0.8529411764705882, 'forehead_height_cm <= 1.115\\ngini = 0.5\\nsamples = 256\\nvalue = [197, 207]\\nclass = female'),\n",
              " Text(0.2668918918918919, 0.7941176470588235, 'nose_wide <= 0.012\\ngini = 0.479\\nsamples = 213\\nvalue = [136, 207]\\nclass = female'),\n",
              " Text(0.20270270270270271, 0.7352941176470589, 'forehead_height_cm <= -1.102\\ngini = 0.207\\nsamples = 127\\nvalue = [25, 188]\\nclass = female'),\n",
              " Text(0.17117117117117117, 0.6764705882352942, 'lips_thin <= 0.014\\ngini = 0.32\\nsamples = 24\\nvalue = [7, 28]\\nclass = female'),\n",
              " Text(0.16216216216216217, 0.6176470588235294, 'gini = 0.0\\nsamples = 18\\nvalue = [0, 24]\\nclass = female'),\n",
              " Text(0.18018018018018017, 0.6176470588235294, 'forehead_width_cm <= 0.468\\ngini = 0.463\\nsamples = 6\\nvalue = [7, 4]\\nclass = male'),\n",
              " Text(0.17117117117117117, 0.5588235294117647, 'gini = 0.0\\nsamples = 3\\nvalue = [0, 4]\\nclass = female'),\n",
              " Text(0.1891891891891892, 0.5588235294117647, 'gini = 0.0\\nsamples = 3\\nvalue = [7, 0]\\nclass = male'),\n",
              " Text(0.23423423423423423, 0.6764705882352942, 'long_hair <= -1.098\\ngini = 0.182\\nsamples = 103\\nvalue = [18, 160]\\nclass = female'),\n",
              " Text(0.21621621621621623, 0.6176470588235294, 'lips_thin <= 0.014\\ngini = 0.334\\nsamples = 18\\nvalue = [7, 26]\\nclass = female'),\n",
              " Text(0.2072072072072072, 0.5588235294117647, 'gini = 0.0\\nsamples = 15\\nvalue = [0, 26]\\nclass = female'),\n",
              " Text(0.22522522522522523, 0.5588235294117647, 'gini = 0.0\\nsamples = 3\\nvalue = [7, 0]\\nclass = male'),\n",
              " Text(0.25225225225225223, 0.6176470588235294, 'forehead_height_cm <= 0.561\\ngini = 0.14\\nsamples = 85\\nvalue = [11, 134]\\nclass = female'),\n",
              " Text(0.24324324324324326, 0.5588235294117647, 'forehead_height_cm <= 0.376\\ngini = 0.173\\nsamples = 65\\nvalue = [11, 104]\\nclass = female'),\n",
              " Text(0.22072072072072071, 0.5, 'forehead_height_cm <= 0.192\\ngini = 0.137\\nsamples = 60\\nvalue = [8, 100]\\nclass = female'),\n",
              " Text(0.20270270270270271, 0.4411764705882353, 'lips_thin <= 0.014\\ngini = 0.104\\nsamples = 50\\nvalue = [5, 86]\\nclass = female'),\n",
              " Text(0.19369369369369369, 0.38235294117647056, 'gini = 0.0\\nsamples = 37\\nvalue = [0, 66]\\nclass = female'),\n",
              " Text(0.21171171171171171, 0.38235294117647056, 'forehead_width_cm <= 1.146\\ngini = 0.32\\nsamples = 13\\nvalue = [5, 20]\\nclass = female'),\n",
              " Text(0.20270270270270271, 0.3235294117647059, 'forehead_width_cm <= -1.248\\ngini = 0.278\\nsamples = 12\\nvalue = [4, 20]\\nclass = female'),\n",
              " Text(0.19369369369369369, 0.2647058823529412, 'gini = 0.0\\nsamples = 3\\nvalue = [0, 8]\\nclass = female'),\n",
              " Text(0.21171171171171171, 0.2647058823529412, 'forehead_width_cm <= 0.107\\ngini = 0.375\\nsamples = 9\\nvalue = [4, 12]\\nclass = female'),\n",
              " Text(0.20270270270270271, 0.20588235294117646, 'gini = 0.0\\nsamples = 2\\nvalue = [2, 0]\\nclass = male'),\n",
              " Text(0.22072072072072071, 0.20588235294117646, 'forehead_width_cm <= 0.514\\ngini = 0.245\\nsamples = 7\\nvalue = [2, 12]\\nclass = female'),\n",
              " Text(0.21171171171171171, 0.14705882352941177, 'gini = 0.0\\nsamples = 4\\nvalue = [0, 8]\\nclass = female'),\n",
              " Text(0.22972972972972974, 0.14705882352941177, 'forehead_height_cm <= -0.917\\ngini = 0.444\\nsamples = 3\\nvalue = [2, 4]\\nclass = female'),\n",
              " Text(0.22072072072072071, 0.08823529411764706, 'gini = 0.0\\nsamples = 1\\nvalue = [0, 3]\\nclass = female'),\n",
              " Text(0.23873873873873874, 0.08823529411764706, 'forehead_height_cm <= -0.732\\ngini = 0.444\\nsamples = 2\\nvalue = [2, 1]\\nclass = male'),\n",
              " Text(0.22972972972972974, 0.029411764705882353, 'gini = 0.0\\nsamples = 1\\nvalue = [2, 0]\\nclass = male'),\n",
              " Text(0.24774774774774774, 0.029411764705882353, 'gini = 0.0\\nsamples = 1\\nvalue = [0, 1]\\nclass = female'),\n",
              " Text(0.22072072072072071, 0.3235294117647059, 'gini = 0.0\\nsamples = 1\\nvalue = [1, 0]\\nclass = male'),\n",
              " Text(0.23873873873873874, 0.4411764705882353, 'lips_thin <= 0.014\\ngini = 0.291\\nsamples = 10\\nvalue = [3, 14]\\nclass = female'),\n",
              " Text(0.22972972972972974, 0.38235294117647056, 'gini = 0.0\\nsamples = 8\\nvalue = [0, 14]\\nclass = female'),\n",
              " Text(0.24774774774774774, 0.38235294117647056, 'gini = 0.0\\nsamples = 2\\nvalue = [3, 0]\\nclass = male'),\n",
              " Text(0.26576576576576577, 0.5, 'lips_thin <= 0.014\\ngini = 0.49\\nsamples = 5\\nvalue = [3, 4]\\nclass = female'),\n",
              " Text(0.25675675675675674, 0.4411764705882353, 'gini = 0.0\\nsamples = 1\\nvalue = [0, 2]\\nclass = female'),\n",
              " Text(0.2747747747747748, 0.4411764705882353, 'forehead_width_cm <= -0.661\\ngini = 0.48\\nsamples = 4\\nvalue = [3, 2]\\nclass = male'),\n",
              " Text(0.26576576576576577, 0.38235294117647056, 'gini = 0.0\\nsamples = 1\\nvalue = [2, 0]\\nclass = male'),\n",
              " Text(0.28378378378378377, 0.38235294117647056, 'forehead_width_cm <= 0.694\\ngini = 0.444\\nsamples = 3\\nvalue = [1, 2]\\nclass = female'),\n",
              " Text(0.2747747747747748, 0.3235294117647059, 'gini = 0.0\\nsamples = 2\\nvalue = [0, 2]\\nclass = female'),\n",
              " Text(0.2927927927927928, 0.3235294117647059, 'gini = 0.0\\nsamples = 1\\nvalue = [1, 0]\\nclass = male'),\n",
              " Text(0.26126126126126126, 0.5588235294117647, 'gini = 0.0\\nsamples = 20\\nvalue = [0, 30]\\nclass = female'),\n",
              " Text(0.3310810810810811, 0.7352941176470589, 'long_hair <= -1.098\\ngini = 0.25\\nsamples = 86\\nvalue = [111, 19]\\nclass = male'),\n",
              " Text(0.2972972972972973, 0.6764705882352942, 'lips_thin <= 0.014\\ngini = 0.227\\nsamples = 17\\nvalue = [20, 3]\\nclass = male'),\n",
              " Text(0.2882882882882883, 0.6176470588235294, 'forehead_height_cm <= -0.178\\ngini = 0.375\\nsamples = 4\\nvalue = [1, 3]\\nclass = female'),\n",
              " Text(0.27927927927927926, 0.5588235294117647, 'gini = 0.0\\nsamples = 2\\nvalue = [0, 2]\\nclass = female'),\n",
              " Text(0.2972972972972973, 0.5588235294117647, 'forehead_width_cm <= 0.197\\ngini = 0.5\\nsamples = 2\\nvalue = [1, 1]\\nclass = male'),\n",
              " Text(0.2882882882882883, 0.5, 'gini = 0.0\\nsamples = 1\\nvalue = [0, 1]\\nclass = female'),\n",
              " Text(0.3063063063063063, 0.5, 'gini = 0.0\\nsamples = 1\\nvalue = [1, 0]\\nclass = male'),\n",
              " Text(0.3063063063063063, 0.6176470588235294, 'gini = 0.0\\nsamples = 13\\nvalue = [19, 0]\\nclass = male'),\n",
              " Text(0.36486486486486486, 0.6764705882352942, 'forehead_height_cm <= -1.287\\ngini = 0.254\\nsamples = 69\\nvalue = [91, 16]\\nclass = male'),\n",
              " Text(0.34234234234234234, 0.6176470588235294, 'lips_thin <= 0.014\\ngini = 0.43\\nsamples = 10\\nvalue = [11, 5]\\nclass = male'),\n",
              " Text(0.3333333333333333, 0.5588235294117647, 'forehead_height_cm <= -1.471\\ngini = 0.408\\nsamples = 3\\nvalue = [2, 5]\\nclass = female'),\n",
              " Text(0.32432432432432434, 0.5, 'forehead_width_cm <= -1.338\\ngini = 0.5\\nsamples = 2\\nvalue = [2, 2]\\nclass = male'),\n",
              " Text(0.3153153153153153, 0.4411764705882353, 'gini = 0.0\\nsamples = 1\\nvalue = [0, 2]\\nclass = female'),\n",
              " Text(0.3333333333333333, 0.4411764705882353, 'gini = 0.0\\nsamples = 1\\nvalue = [2, 0]\\nclass = male'),\n",
              " Text(0.34234234234234234, 0.5, 'gini = 0.0\\nsamples = 1\\nvalue = [0, 3]\\nclass = female'),\n",
              " Text(0.35135135135135137, 0.5588235294117647, 'gini = 0.0\\nsamples = 7\\nvalue = [9, 0]\\nclass = male'),\n",
              " Text(0.38738738738738737, 0.6176470588235294, 'lips_thin <= 0.014\\ngini = 0.213\\nsamples = 59\\nvalue = [80, 11]\\nclass = male'),\n",
              " Text(0.36936936936936937, 0.5588235294117647, 'forehead_height_cm <= -0.547\\ngini = 0.499\\nsamples = 11\\nvalue = [9, 10]\\nclass = female'),\n",
              " Text(0.36036036036036034, 0.5, 'gini = 0.0\\nsamples = 2\\nvalue = [0, 3]\\nclass = female'),\n",
              " Text(0.3783783783783784, 0.5, 'forehead_height_cm <= 0.746\\ngini = 0.492\\nsamples = 9\\nvalue = [9, 7]\\nclass = male'),\n",
              " Text(0.36936936936936937, 0.4411764705882353, 'forehead_width_cm <= 0.559\\ngini = 0.426\\nsamples = 7\\nvalue = [9, 4]\\nclass = male'),\n",
              " Text(0.36036036036036034, 0.38235294117647056, 'gini = 0.0\\nsamples = 4\\nvalue = [8, 0]\\nclass = male'),\n",
              " Text(0.3783783783783784, 0.38235294117647056, 'forehead_height_cm <= 0.561\\ngini = 0.32\\nsamples = 3\\nvalue = [1, 4]\\nclass = female'),\n",
              " Text(0.36936936936936937, 0.3235294117647059, 'gini = 0.0\\nsamples = 2\\nvalue = [0, 4]\\nclass = female'),\n",
              " Text(0.38738738738738737, 0.3235294117647059, 'gini = 0.0\\nsamples = 1\\nvalue = [1, 0]\\nclass = male'),\n",
              " Text(0.38738738738738737, 0.4411764705882353, 'gini = 0.0\\nsamples = 2\\nvalue = [0, 3]\\nclass = female'),\n",
              " Text(0.40540540540540543, 0.5588235294117647, 'forehead_width_cm <= 0.965\\ngini = 0.027\\nsamples = 48\\nvalue = [71, 1]\\nclass = male'),\n",
              " Text(0.3963963963963964, 0.5, 'gini = 0.0\\nsamples = 32\\nvalue = [48, 0]\\nclass = male'),\n",
              " Text(0.4144144144144144, 0.5, 'forehead_width_cm <= 1.056\\ngini = 0.08\\nsamples = 16\\nvalue = [23, 1]\\nclass = male'),\n",
              " Text(0.40540540540540543, 0.4411764705882353, 'forehead_height_cm <= -0.455\\ngini = 0.444\\nsamples = 2\\nvalue = [2, 1]\\nclass = male'),\n",
              " Text(0.3963963963963964, 0.38235294117647056, 'gini = 0.0\\nsamples = 1\\nvalue = [2, 0]\\nclass = male'),\n",
              " Text(0.4144144144144144, 0.38235294117647056, 'gini = 0.0\\nsamples = 1\\nvalue = [0, 1]\\nclass = female'),\n",
              " Text(0.42342342342342343, 0.4411764705882353, 'gini = 0.0\\nsamples = 14\\nvalue = [21, 0]\\nclass = male'),\n",
              " Text(0.2849099099099099, 0.7941176470588235, 'gini = 0.0\\nsamples = 43\\nvalue = [61, 0]\\nclass = male'),\n",
              " Text(0.7477477477477478, 0.9117647058823529, 'forehead_height_cm <= 1.115\\ngini = 0.225\\nsamples = 1311\\nvalue = [1784, 264]\\nclass = male'),\n",
              " Text(0.7387387387387387, 0.8529411764705882, 'nose_wide <= 0.012\\ngini = 0.285\\nsamples = 978\\nvalue = [1270, 264]\\nclass = male'),\n",
              " Text(0.6024774774774775, 0.7941176470588235, 'distance_nose_to_lip_long <= 0.002\\ngini = 0.484\\nsamples = 266\\nvalue = [168, 242]\\nclass = female'),\n",
              " Text(0.47072072072072074, 0.7352941176470589, 'long_hair <= -1.098\\ngini = 0.191\\nsamples = 151\\nvalue = [24, 200]\\nclass = female'),\n",
              " Text(0.42342342342342343, 0.6764705882352942, 'lips_thin <= 0.014\\ngini = 0.153\\nsamples = 18\\nvalue = [2, 22]\\nclass = female'),\n",
              " Text(0.4144144144144144, 0.6176470588235294, 'gini = 0.0\\nsamples = 16\\nvalue = [0, 21]\\nclass = female'),\n",
              " Text(0.43243243243243246, 0.6176470588235294, 'forehead_height_cm <= -0.455\\ngini = 0.444\\nsamples = 2\\nvalue = [2, 1]\\nclass = male'),\n",
              " Text(0.42342342342342343, 0.5588235294117647, 'gini = 0.0\\nsamples = 1\\nvalue = [2, 0]\\nclass = male'),\n",
              " Text(0.44144144144144143, 0.5588235294117647, 'gini = 0.0\\nsamples = 1\\nvalue = [0, 1]\\nclass = female'),\n",
              " Text(0.5180180180180181, 0.6764705882352942, 'lips_thin <= 0.014\\ngini = 0.196\\nsamples = 133\\nvalue = [22, 178]\\nclass = female'),\n",
              " Text(0.46846846846846846, 0.6176470588235294, 'forehead_height_cm <= 0.007\\ngini = 0.027\\nsamples = 99\\nvalue = [2, 145]\\nclass = female'),\n",
              " Text(0.4594594594594595, 0.5588235294117647, 'forehead_width_cm <= 1.417\\ngini = 0.049\\nsamples = 52\\nvalue = [2, 77]\\nclass = female'),\n",
              " Text(0.45045045045045046, 0.5, 'forehead_height_cm <= -0.178\\ngini = 0.025\\nsamples = 51\\nvalue = [1, 77]\\nclass = female'),\n",
              " Text(0.44144144144144143, 0.4411764705882353, 'gini = 0.0\\nsamples = 47\\nvalue = [0, 73]\\nclass = female'),\n",
              " Text(0.4594594594594595, 0.4411764705882353, 'forehead_width_cm <= 0.604\\ngini = 0.32\\nsamples = 4\\nvalue = [1, 4]\\nclass = female'),\n",
              " Text(0.45045045045045046, 0.38235294117647056, 'gini = 0.0\\nsamples = 3\\nvalue = [0, 4]\\nclass = female'),\n",
              " Text(0.46846846846846846, 0.38235294117647056, 'gini = 0.0\\nsamples = 1\\nvalue = [1, 0]\\nclass = male'),\n",
              " Text(0.46846846846846846, 0.5, 'gini = 0.0\\nsamples = 1\\nvalue = [1, 0]\\nclass = male'),\n",
              " Text(0.4774774774774775, 0.5588235294117647, 'gini = 0.0\\nsamples = 47\\nvalue = [0, 68]\\nclass = female'),\n",
              " Text(0.5675675675675675, 0.6176470588235294, 'forehead_height_cm <= -0.547\\ngini = 0.47\\nsamples = 34\\nvalue = [20, 33]\\nclass = female'),\n",
              " Text(0.5315315315315315, 0.5588235294117647, 'forehead_width_cm <= 0.423\\ngini = 0.375\\nsamples = 17\\nvalue = [6, 18]\\nclass = female'),\n",
              " Text(0.5225225225225225, 0.5, 'forehead_height_cm <= -0.917\\ngini = 0.245\\nsamples = 14\\nvalue = [3, 18]\\nclass = female'),\n",
              " Text(0.4954954954954955, 0.4411764705882353, 'forehead_width_cm <= -0.119\\ngini = 0.32\\nsamples = 8\\nvalue = [2, 8]\\nclass = female'),\n",
              " Text(0.4864864864864865, 0.38235294117647056, 'gini = 0.0\\nsamples = 3\\nvalue = [0, 4]\\nclass = female'),\n",
              " Text(0.5045045045045045, 0.38235294117647056, 'forehead_width_cm <= 0.062\\ngini = 0.444\\nsamples = 5\\nvalue = [2, 4]\\nclass = female'),\n",
              " Text(0.4954954954954955, 0.3235294117647059, 'gini = 0.0\\nsamples = 1\\nvalue = [1, 0]\\nclass = male'),\n",
              " Text(0.5135135135135135, 0.3235294117647059, 'forehead_width_cm <= 0.152\\ngini = 0.32\\nsamples = 4\\nvalue = [1, 4]\\nclass = female'),\n",
              " Text(0.5045045045045045, 0.2647058823529412, 'gini = 0.0\\nsamples = 2\\nvalue = [0, 3]\\nclass = female'),\n",
              " Text(0.5225225225225225, 0.2647058823529412, 'forehead_width_cm <= 0.243\\ngini = 0.5\\nsamples = 2\\nvalue = [1, 1]\\nclass = male'),\n",
              " Text(0.5135135135135135, 0.20588235294117646, 'gini = 0.0\\nsamples = 1\\nvalue = [1, 0]\\nclass = male'),\n",
              " Text(0.5315315315315315, 0.20588235294117646, 'gini = 0.0\\nsamples = 1\\nvalue = [0, 1]\\nclass = female'),\n",
              " Text(0.5495495495495496, 0.4411764705882353, 'forehead_height_cm <= -0.732\\ngini = 0.165\\nsamples = 6\\nvalue = [1, 10]\\nclass = female'),\n",
              " Text(0.5405405405405406, 0.38235294117647056, 'forehead_width_cm <= -0.39\\ngini = 0.198\\nsamples = 5\\nvalue = [1, 8]\\nclass = female'),\n",
              " Text(0.5315315315315315, 0.3235294117647059, 'gini = 0.0\\nsamples = 2\\nvalue = [0, 5]\\nclass = female'),\n",
              " Text(0.5495495495495496, 0.3235294117647059, 'forehead_width_cm <= -0.254\\ngini = 0.375\\nsamples = 3\\nvalue = [1, 3]\\nclass = female'),\n",
              " Text(0.5405405405405406, 0.2647058823529412, 'gini = 0.0\\nsamples = 1\\nvalue = [1, 0]\\nclass = male'),\n",
              " Text(0.5585585585585585, 0.2647058823529412, 'gini = 0.0\\nsamples = 2\\nvalue = [0, 3]\\nclass = female'),\n",
              " Text(0.5585585585585585, 0.38235294117647056, 'gini = 0.0\\nsamples = 1\\nvalue = [0, 2]\\nclass = female'),\n",
              " Text(0.5405405405405406, 0.5, 'gini = 0.0\\nsamples = 3\\nvalue = [3, 0]\\nclass = male'),\n",
              " Text(0.6036036036036037, 0.5588235294117647, 'forehead_height_cm <= 0.838\\ngini = 0.499\\nsamples = 17\\nvalue = [14, 15]\\nclass = female'),\n",
              " Text(0.5855855855855856, 0.5, 'forehead_height_cm <= -0.363\\ngini = 0.472\\nsamples = 13\\nvalue = [13, 8]\\nclass = male'),\n",
              " Text(0.5765765765765766, 0.4411764705882353, 'gini = 0.0\\nsamples = 1\\nvalue = [3, 0]\\nclass = male'),\n",
              " Text(0.5945945945945946, 0.4411764705882353, 'forehead_height_cm <= 0.007\\ngini = 0.494\\nsamples = 12\\nvalue = [10, 8]\\nclass = male'),\n",
              " Text(0.5765765765765766, 0.38235294117647056, 'forehead_width_cm <= -0.074\\ngini = 0.408\\nsamples = 4\\nvalue = [2, 5]\\nclass = female'),\n",
              " Text(0.5675675675675675, 0.3235294117647059, 'gini = 0.0\\nsamples = 2\\nvalue = [0, 4]\\nclass = female'),\n",
              " Text(0.5855855855855856, 0.3235294117647059, 'gini = 0.444\\nsamples = 2\\nvalue = [2, 1]\\nclass = male'),\n",
              " Text(0.6126126126126126, 0.38235294117647056, 'forehead_height_cm <= 0.284\\ngini = 0.397\\nsamples = 8\\nvalue = [8, 3]\\nclass = male'),\n",
              " Text(0.6036036036036037, 0.3235294117647059, 'gini = 0.0\\nsamples = 1\\nvalue = [1, 0]\\nclass = male'),\n",
              " Text(0.6216216216216216, 0.3235294117647059, 'forehead_height_cm <= 0.561\\ngini = 0.42\\nsamples = 7\\nvalue = [7, 3]\\nclass = male'),\n",
              " Text(0.6036036036036037, 0.2647058823529412, 'forehead_width_cm <= 0.83\\ngini = 0.444\\nsamples = 2\\nvalue = [2, 1]\\nclass = male'),\n",
              " Text(0.5945945945945946, 0.20588235294117646, 'gini = 0.0\\nsamples = 1\\nvalue = [0, 1]\\nclass = female'),\n",
              " Text(0.6126126126126126, 0.20588235294117646, 'gini = 0.0\\nsamples = 1\\nvalue = [2, 0]\\nclass = male'),\n",
              " Text(0.6396396396396397, 0.2647058823529412, 'forehead_width_cm <= -0.39\\ngini = 0.408\\nsamples = 5\\nvalue = [5, 2]\\nclass = male'),\n",
              " Text(0.6306306306306306, 0.20588235294117646, 'gini = 0.0\\nsamples = 2\\nvalue = [0, 2]\\nclass = female'),\n",
              " Text(0.6486486486486487, 0.20588235294117646, 'gini = 0.0\\nsamples = 3\\nvalue = [5, 0]\\nclass = male'),\n",
              " Text(0.6216216216216216, 0.5, 'forehead_width_cm <= 1.146\\ngini = 0.219\\nsamples = 4\\nvalue = [1, 7]\\nclass = female'),\n",
              " Text(0.6126126126126126, 0.4411764705882353, 'gini = 0.0\\nsamples = 3\\nvalue = [0, 7]\\nclass = female'),\n",
              " Text(0.6306306306306306, 0.4411764705882353, 'gini = 0.0\\nsamples = 1\\nvalue = [1, 0]\\nclass = male'),\n",
              " Text(0.7342342342342343, 0.7352941176470589, 'lips_thin <= 0.014\\ngini = 0.35\\nsamples = 115\\nvalue = [144, 42]\\nclass = male'),\n",
              " Text(0.7162162162162162, 0.6764705882352942, 'forehead_height_cm <= -1.471\\ngini = 0.448\\nsamples = 29\\nvalue = [21, 41]\\nclass = female'),\n",
              " Text(0.7072072072072072, 0.6176470588235294, 'gini = 0.0\\nsamples = 1\\nvalue = [2, 0]\\nclass = male'),\n",
              " Text(0.7252252252252253, 0.6176470588235294, 'forehead_width_cm <= 1.236\\ngini = 0.433\\nsamples = 28\\nvalue = [19, 41]\\nclass = female'),\n",
              " Text(0.7162162162162162, 0.5588235294117647, 'forehead_width_cm <= -1.067\\ngini = 0.38\\nsamples = 25\\nvalue = [14, 41]\\nclass = female'),\n",
              " Text(0.7072072072072072, 0.5, 'gini = 0.0\\nsamples = 8\\nvalue = [0, 15]\\nclass = female'),\n",
              " Text(0.7252252252252253, 0.5, 'forehead_width_cm <= 0.197\\ngini = 0.455\\nsamples = 17\\nvalue = [14, 26]\\nclass = female'),\n",
              " Text(0.7027027027027027, 0.4411764705882353, 'forehead_width_cm <= 0.017\\ngini = 0.465\\nsamples = 7\\nvalue = [12, 7]\\nclass = male'),\n",
              " Text(0.6936936936936937, 0.38235294117647056, 'forehead_width_cm <= -0.164\\ngini = 0.5\\nsamples = 6\\nvalue = [7, 7]\\nclass = male'),\n",
              " Text(0.6846846846846847, 0.3235294117647059, 'forehead_height_cm <= -1.194\\ngini = 0.346\\nsamples = 5\\nvalue = [7, 2]\\nclass = male'),\n",
              " Text(0.6756756756756757, 0.2647058823529412, 'forehead_width_cm <= -0.57\\ngini = 0.444\\nsamples = 2\\nvalue = [1, 2]\\nclass = female'),\n",
              " Text(0.6666666666666666, 0.20588235294117646, 'gini = 0.0\\nsamples = 1\\nvalue = [0, 2]\\nclass = female'),\n",
              " Text(0.6846846846846847, 0.20588235294117646, 'gini = 0.0\\nsamples = 1\\nvalue = [1, 0]\\nclass = male'),\n",
              " Text(0.6936936936936937, 0.2647058823529412, 'gini = 0.0\\nsamples = 3\\nvalue = [6, 0]\\nclass = male'),\n",
              " Text(0.7027027027027027, 0.3235294117647059, 'gini = 0.0\\nsamples = 1\\nvalue = [0, 5]\\nclass = female'),\n",
              " Text(0.7117117117117117, 0.38235294117647056, 'gini = 0.0\\nsamples = 1\\nvalue = [5, 0]\\nclass = male'),\n",
              " Text(0.7477477477477478, 0.4411764705882353, 'forehead_width_cm <= 0.694\\ngini = 0.172\\nsamples = 10\\nvalue = [2, 19]\\nclass = female'),\n",
              " Text(0.7387387387387387, 0.38235294117647056, 'forehead_width_cm <= 0.514\\ngini = 0.245\\nsamples = 7\\nvalue = [2, 12]\\nclass = female'),\n",
              " Text(0.7207207207207207, 0.3235294117647059, 'forehead_height_cm <= -0.732\\ngini = 0.165\\nsamples = 4\\nvalue = [1, 10]\\nclass = female'),\n",
              " Text(0.7117117117117117, 0.2647058823529412, 'gini = 0.0\\nsamples = 1\\nvalue = [1, 0]\\nclass = male'),\n",
              " Text(0.7297297297297297, 0.2647058823529412, 'gini = 0.0\\nsamples = 3\\nvalue = [0, 10]\\nclass = female'),\n",
              " Text(0.7567567567567568, 0.3235294117647059, 'forehead_height_cm <= 0.746\\ngini = 0.444\\nsamples = 3\\nvalue = [1, 2]\\nclass = female'),\n",
              " Text(0.7477477477477478, 0.2647058823529412, 'gini = 0.0\\nsamples = 2\\nvalue = [0, 2]\\nclass = female'),\n",
              " Text(0.7657657657657657, 0.2647058823529412, 'gini = 0.0\\nsamples = 1\\nvalue = [1, 0]\\nclass = male'),\n",
              " Text(0.7567567567567568, 0.38235294117647056, 'gini = 0.0\\nsamples = 3\\nvalue = [0, 7]\\nclass = female'),\n",
              " Text(0.7342342342342343, 0.5588235294117647, 'gini = 0.0\\nsamples = 3\\nvalue = [5, 0]\\nclass = male'),\n",
              " Text(0.7522522522522522, 0.6764705882352942, 'long_hair <= -1.098\\ngini = 0.016\\nsamples = 86\\nvalue = [123, 1]\\nclass = male'),\n",
              " Text(0.7432432432432432, 0.6176470588235294, 'gini = 0.0\\nsamples = 6\\nvalue = [6, 0]\\nclass = male'),\n",
              " Text(0.7612612612612613, 0.6176470588235294, 'forehead_width_cm <= -0.661\\ngini = 0.017\\nsamples = 80\\nvalue = [117, 1]\\nclass = male'),\n",
              " Text(0.7522522522522522, 0.5588235294117647, 'forehead_width_cm <= -0.751\\ngini = 0.056\\nsamples = 21\\nvalue = [34, 1]\\nclass = male'),\n",
              " Text(0.7432432432432432, 0.5, 'gini = 0.0\\nsamples = 20\\nvalue = [34, 0]\\nclass = male'),\n",
              " Text(0.7612612612612613, 0.5, 'gini = 0.0\\nsamples = 1\\nvalue = [0, 1]\\nclass = female'),\n",
              " Text(0.7702702702702703, 0.5588235294117647, 'gini = 0.0\\nsamples = 59\\nvalue = [83, 0]\\nclass = male'),\n",
              " Text(0.875, 0.7941176470588235, 'forehead_width_cm <= -1.564\\ngini = 0.038\\nsamples = 712\\nvalue = [1102, 22]\\nclass = male'),\n",
              " Text(0.865990990990991, 0.7352941176470589, 'gini = 0.0\\nsamples = 1\\nvalue = [0, 1]\\nclass = female'),\n",
              " Text(0.884009009009009, 0.7352941176470589, 'lips_thin <= 0.014\\ngini = 0.037\\nsamples = 711\\nvalue = [1102, 21]\\nclass = male'),\n",
              " Text(0.8524774774774775, 0.6764705882352942, 'forehead_height_cm <= -1.471\\ngini = 0.204\\nsamples = 107\\nvalue = [153, 20]\\nclass = male'),\n",
              " Text(0.8344594594594594, 0.6176470588235294, 'forehead_width_cm <= -0.299\\ngini = 0.444\\nsamples = 5\\nvalue = [6, 3]\\nclass = male'),\n",
              " Text(0.8254504504504504, 0.5588235294117647, 'long_hair <= -1.098\\ngini = 0.48\\nsamples = 2\\nvalue = [2, 3]\\nclass = female'),\n",
              " Text(0.8164414414414415, 0.5, 'gini = 0.0\\nsamples = 1\\nvalue = [0, 3]\\nclass = female'),\n",
              " Text(0.8344594594594594, 0.5, 'gini = 0.0\\nsamples = 1\\nvalue = [2, 0]\\nclass = male'),\n",
              " Text(0.8434684684684685, 0.5588235294117647, 'gini = 0.0\\nsamples = 3\\nvalue = [4, 0]\\nclass = male'),\n",
              " Text(0.8704954954954955, 0.6176470588235294, 'forehead_height_cm <= -1.102\\ngini = 0.186\\nsamples = 102\\nvalue = [147, 17]\\nclass = male'),\n",
              " Text(0.8614864864864865, 0.5588235294117647, 'gini = 0.0\\nsamples = 13\\nvalue = [23, 0]\\nclass = male'),\n",
              " Text(0.8795045045045045, 0.5588235294117647, 'forehead_height_cm <= 0.931\\ngini = 0.212\\nsamples = 89\\nvalue = [124, 17]\\nclass = male'),\n",
              " Text(0.8704954954954955, 0.5, 'forehead_width_cm <= -0.932\\ngini = 0.229\\nsamples = 82\\nvalue = [112, 17]\\nclass = male'),\n",
              " Text(0.8018018018018018, 0.4411764705882353, 'forehead_width_cm <= -1.383\\ngini = 0.495\\nsamples = 13\\nvalue = [11, 9]\\nclass = male'),\n",
              " Text(0.7927927927927928, 0.38235294117647056, 'gini = 0.0\\nsamples = 4\\nvalue = [5, 0]\\nclass = male'),\n",
              " Text(0.8108108108108109, 0.38235294117647056, 'forehead_width_cm <= -1.022\\ngini = 0.48\\nsamples = 9\\nvalue = [6, 9]\\nclass = female'),\n",
              " Text(0.7927927927927928, 0.3235294117647059, 'forehead_height_cm <= 0.192\\ngini = 0.486\\nsamples = 7\\nvalue = [5, 7]\\nclass = female'),\n",
              " Text(0.7837837837837838, 0.2647058823529412, 'distance_nose_to_lip_long <= 0.002\\ngini = 0.346\\nsamples = 6\\nvalue = [2, 7]\\nclass = female'),\n",
              " Text(0.7747747747747747, 0.20588235294117646, 'gini = 0.0\\nsamples = 4\\nvalue = [0, 7]\\nclass = female'),\n",
              " Text(0.7927927927927928, 0.20588235294117646, 'gini = 0.0\\nsamples = 2\\nvalue = [2, 0]\\nclass = male'),\n",
              " Text(0.8018018018018018, 0.2647058823529412, 'gini = 0.0\\nsamples = 1\\nvalue = [3, 0]\\nclass = male'),\n",
              " Text(0.8288288288288288, 0.3235294117647059, 'forehead_height_cm <= 0.746\\ngini = 0.444\\nsamples = 2\\nvalue = [1, 2]\\nclass = female'),\n",
              " Text(0.8198198198198198, 0.2647058823529412, 'gini = 0.0\\nsamples = 1\\nvalue = [0, 2]\\nclass = female'),\n",
              " Text(0.8378378378378378, 0.2647058823529412, 'gini = 0.0\\nsamples = 1\\nvalue = [1, 0]\\nclass = male'),\n",
              " Text(0.9391891891891891, 0.4411764705882353, 'forehead_height_cm <= 0.746\\ngini = 0.136\\nsamples = 69\\nvalue = [101, 8]\\nclass = male'),\n",
              " Text(0.9054054054054054, 0.38235294117647056, 'forehead_width_cm <= -0.119\\ngini = 0.093\\nsamples = 65\\nvalue = [97, 5]\\nclass = male'),\n",
              " Text(0.8648648648648649, 0.3235294117647059, 'forehead_width_cm <= -0.57\\ngini = 0.238\\nsamples = 19\\nvalue = [25, 4]\\nclass = male'),\n",
              " Text(0.8558558558558559, 0.2647058823529412, 'gini = 0.0\\nsamples = 10\\nvalue = [15, 0]\\nclass = male'),\n",
              " Text(0.8738738738738738, 0.2647058823529412, 'forehead_width_cm <= -0.48\\ngini = 0.408\\nsamples = 9\\nvalue = [10, 4]\\nclass = male'),\n",
              " Text(0.8558558558558559, 0.20588235294117646, 'distance_nose_to_lip_long <= 0.002\\ngini = 0.375\\nsamples = 2\\nvalue = [1, 3]\\nclass = female'),\n",
              " Text(0.8468468468468469, 0.14705882352941177, 'gini = 0.0\\nsamples = 1\\nvalue = [0, 3]\\nclass = female'),\n",
              " Text(0.8648648648648649, 0.14705882352941177, 'gini = 0.0\\nsamples = 1\\nvalue = [1, 0]\\nclass = male'),\n",
              " Text(0.8918918918918919, 0.20588235294117646, 'distance_nose_to_lip_long <= 0.002\\ngini = 0.18\\nsamples = 7\\nvalue = [9, 1]\\nclass = male'),\n",
              " Text(0.8828828828828829, 0.14705882352941177, 'gini = 0.0\\nsamples = 2\\nvalue = [4, 0]\\nclass = male'),\n",
              " Text(0.9009009009009009, 0.14705882352941177, 'forehead_width_cm <= -0.209\\ngini = 0.278\\nsamples = 5\\nvalue = [5, 1]\\nclass = male'),\n",
              " Text(0.8918918918918919, 0.08823529411764706, 'gini = 0.0\\nsamples = 3\\nvalue = [4, 0]\\nclass = male'),\n",
              " Text(0.9099099099099099, 0.08823529411764706, 'forehead_height_cm <= -0.64\\ngini = 0.5\\nsamples = 2\\nvalue = [1, 1]\\nclass = male'),\n",
              " Text(0.9009009009009009, 0.029411764705882353, 'gini = 0.0\\nsamples = 1\\nvalue = [0, 1]\\nclass = female'),\n",
              " Text(0.918918918918919, 0.029411764705882353, 'gini = 0.0\\nsamples = 1\\nvalue = [1, 0]\\nclass = male'),\n",
              " Text(0.9459459459459459, 0.3235294117647059, 'distance_nose_to_lip_long <= 0.002\\ngini = 0.027\\nsamples = 46\\nvalue = [72, 1]\\nclass = male'),\n",
              " Text(0.9369369369369369, 0.2647058823529412, 'forehead_height_cm <= -0.732\\ngini = 0.133\\nsamples = 9\\nvalue = [13, 1]\\nclass = male'),\n",
              " Text(0.9279279279279279, 0.20588235294117646, 'forehead_width_cm <= 1.281\\ngini = 0.375\\nsamples = 2\\nvalue = [3, 1]\\nclass = male'),\n",
              " Text(0.918918918918919, 0.14705882352941177, 'gini = 0.0\\nsamples = 1\\nvalue = [0, 1]\\nclass = female'),\n",
              " Text(0.9369369369369369, 0.14705882352941177, 'gini = 0.0\\nsamples = 1\\nvalue = [3, 0]\\nclass = male'),\n",
              " Text(0.9459459459459459, 0.20588235294117646, 'gini = 0.0\\nsamples = 7\\nvalue = [10, 0]\\nclass = male'),\n",
              " Text(0.954954954954955, 0.2647058823529412, 'gini = 0.0\\nsamples = 37\\nvalue = [59, 0]\\nclass = male'),\n",
              " Text(0.972972972972973, 0.38235294117647056, 'forehead_width_cm <= 0.559\\ngini = 0.49\\nsamples = 4\\nvalue = [4, 3]\\nclass = male'),\n",
              " Text(0.963963963963964, 0.3235294117647059, 'gini = 0.0\\nsamples = 2\\nvalue = [3, 0]\\nclass = male'),\n",
              " Text(0.9819819819819819, 0.3235294117647059, 'forehead_width_cm <= 1.056\\ngini = 0.375\\nsamples = 2\\nvalue = [1, 3]\\nclass = female'),\n",
              " Text(0.972972972972973, 0.2647058823529412, 'gini = 0.0\\nsamples = 1\\nvalue = [0, 3]\\nclass = female'),\n",
              " Text(0.990990990990991, 0.2647058823529412, 'gini = 0.0\\nsamples = 1\\nvalue = [1, 0]\\nclass = male'),\n",
              " Text(0.8885135135135135, 0.5, 'gini = 0.0\\nsamples = 7\\nvalue = [12, 0]\\nclass = male'),\n",
              " Text(0.9155405405405406, 0.6764705882352942, 'forehead_width_cm <= -0.299\\ngini = 0.002\\nsamples = 604\\nvalue = [949, 1]\\nclass = male'),\n",
              " Text(0.9065315315315315, 0.6176470588235294, 'forehead_width_cm <= -0.39\\ngini = 0.006\\nsamples = 199\\nvalue = [314, 1]\\nclass = male'),\n",
              " Text(0.8975225225225225, 0.5588235294117647, 'gini = 0.0\\nsamples = 186\\nvalue = [291, 0]\\nclass = male'),\n",
              " Text(0.9155405405405406, 0.5588235294117647, 'distance_nose_to_lip_long <= 0.002\\ngini = 0.08\\nsamples = 13\\nvalue = [23, 1]\\nclass = male'),\n",
              " Text(0.9065315315315315, 0.5, 'gini = 0.0\\nsamples = 1\\nvalue = [0, 1]\\nclass = female'),\n",
              " Text(0.9245495495495496, 0.5, 'gini = 0.0\\nsamples = 12\\nvalue = [23, 0]\\nclass = male'),\n",
              " Text(0.9245495495495496, 0.6176470588235294, 'gini = 0.0\\nsamples = 405\\nvalue = [635, 0]\\nclass = male'),\n",
              " Text(0.7567567567567568, 0.8529411764705882, 'gini = 0.0\\nsamples = 333\\nvalue = [514, 0]\\nclass = male')]"
            ]
          },
          "metadata": {},
          "execution_count": 68
        },
        {
          "output_type": "display_data",
          "data": {
            "text/plain": [
              "<Figure size 1080x720 with 1 Axes>"
            ],
            "image/png": "[encoded data removed]"
          },
          "metadata": {
            "needs_background": "light"
          }
        }
      ]
    }
  ]
}